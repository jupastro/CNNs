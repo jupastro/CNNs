{
  "nbformat": 4,
  "nbformat_minor": 0,
  "metadata": {
    "colab": {
      "name": "COVIDx-EfficientNetB2 example of CNN setup",
      "provenance": [],
      "machine_shape": "hm"
    },
    "kernelspec": {
      "name": "python3",
      "display_name": "Python 3"
    },
    "accelerator": "GPU"
  },
  "cells": [
    {
      "cell_type": "markdown",
      "metadata": {
        "id": "zuv2f8P_3mm8"
      },
      "source": [
        "#Example of Tensorflow setup of a CNN"
      ]
    },
    {
      "cell_type": "markdown",
      "metadata": {
        "id": "mOE9hzzf3wdx"
      },
      "source": [
        "## First steps-> arranging the data"
      ]
    },
    {
      "cell_type": "markdown",
      "metadata": {
        "id": "DY_5XsWWAWEN"
      },
      "source": [
        "\n",
        "### Import libraries and load the data"
      ]
    },
    {
      "cell_type": "markdown",
      "metadata": {
        "id": "o1TC5fy4AhDe"
      },
      "source": [
        "First of all I've installed in colab some packages to split the dataset and also Tensorflow\n"
      ]
    },
    {
      "cell_type": "code",
      "metadata": {
        "id": "mvLU2bS6AqyE"
      },
      "source": [
        " \n",
        "!pip install split-folders\n",
        "!pip install  git+https://github.com/tensorflow/docs"
      ],
      "execution_count": null,
      "outputs": []
    },
    {
      "cell_type": "markdown",
      "metadata": {
        "id": "1OFRkSjoAtc9"
      },
      "source": [
        "Then I've imported the corresponding libraries to the notebook"
      ]
    },
    {
      "cell_type": "code",
      "metadata": {
        "id": "cV4D9K1VA0m3"
      },
      "source": [
        "from pydrive.auth import GoogleAuth\n",
        "from pydrive.drive import GoogleDrive\n",
        "from google.colab import auth\n",
        "from oauth2client.client import GoogleCredentials\n",
        "import io\n",
        "import zipfile\n",
        "import numpy as np\n",
        "import os\n",
        "import re\n",
        "import keras\n",
        "import matplotlib.pyplot as plt\n",
        "\n",
        "%matplotlib inline\n",
        "from sklearn.model_selection import train_test_split\n",
        "from sklearn.metrics import classification_report\n",
        "\n",
        "from keras.utils import to_categorical\n",
        "from keras.models import Sequential,Input,Model\n",
        "from keras.layers import Dense, Dropout, Flatten\n",
        "from keras.layers import Conv2D, MaxPooling2D\n",
        "from keras.layers.normalization import BatchNormalization\n",
        "from keras.layers.advanced_activations import LeakyReLU\n",
        "from tensorflow.keras.preprocessing import image_dataset_from_directory\n",
        "\n",
        "import tensorflow_docs as tfdocs\n",
        "import tensorflow_docs.plots\n",
        "import tensorflow as tf\n",
        "from tensorflow.keras.layers.experimental import preprocessing\n",
        "from tensorflow.keras.models import Sequential\n",
        "from tensorflow.keras import layers\n",
        "\n",
        "import shutil\n",
        "import os"
      ],
      "execution_count": null,
      "outputs": []
    },
    {
      "cell_type": "markdown",
      "metadata": {
        "id": "hgX5n-dfA35x"
      },
      "source": [
        "By unzipping the file directly from our drive folder we speed up the loading and store it in the temporary server memory"
      ]
    },
    {
      "cell_type": "code",
      "metadata": {
        "id": "_cEAjYtsA6hZ"
      },
      "source": [
        "!unzip '/content/drive/My Drive/DIPC/Copia de Covid-X-v4.zip';"
      ],
      "execution_count": null,
      "outputs": []
    },
    {
      "cell_type": "markdown",
      "metadata": {
        "id": "0jfVmK2BBLoN"
      },
      "source": [
        "###Organising the main directories and the paths\n",
        " It is important to name the folders properly so that we can directly label them by their parent folder's name"
      ]
    },
    {
      "cell_type": "code",
      "metadata": {
        "id": "0TJycYH3BTfz"
      },
      "source": [
        "\n",
        "base_dir = '/content/data'\n",
        "train_dir =     '/content/data/train'\n",
        "validation_dir = '/content/data/validation'\n",
        "train_normal_dir = os.path.join(train_dir, 'normal')\n",
        "train_pneumonia_dir = os.path.join(train_dir, 'pneumonia')\n",
        "train_covid_dir_old = os.path.join(train_dir, 'COVID-19') \n",
        "test_dir =       '/content/data/test'\n",
        "test_normal_dir = os.path.join(test_dir, 'normal')\n",
        "test_pneumonia_dir = os.path.join(test_dir, 'pneumonia')\n",
        "test_covid_dir = os.path.join(test_dir, 'COVID-19')"
      ],
      "execution_count": null,
      "outputs": []
    },
    {
      "cell_type": "code",
      "metadata": {
        "id": "YVAEnc9gBYhc"
      },
      "source": [
        "\n",
        "try:\n",
        "  os.mkdir(test_covid_dir)\n",
        "  os.mkdir(validation_dir)\n",
        "  os.mkdir(train_normal_dir)\n",
        "  os.mkdir(train_pneumonia_dir)\n",
        "  os.mkdir(train_covid_dir_old)\n",
        "  os.mkdir(test_normal_dir)\n",
        "  os.mkdir(test_pneumonia_dir)\n",
        "except:\n",
        "  print('Ya existen los directorios')"
      ],
      "execution_count": null,
      "outputs": []
    },
    {
      "cell_type": "markdown",
      "metadata": {
        "id": "mS4bo8GpfRZE"
      },
      "source": [
        "Now based on the txt file, we move each of the images to its corresponding folder:"
      ]
    },
    {
      "cell_type": "code",
      "metadata": {
        "id": "XhfmEOeuBcmR"
      },
      "source": [
        "\n",
        "import shutil\n",
        "f = open(\"/content/data/train_split.txt\", \"r\")\n",
        "for linea in f:\n",
        "  try:\n",
        "    shutil.move(os.path.join(train_dir,linea.split()[1]), os.path.join(train_dir,linea.split()[2],linea.split()[1]))\n",
        "  except:\n",
        "    print('Ya se encuentran en su carpeta')\n",
        "f.close()\n",
        "\n",
        "f = open(\"/content/data/test_split.txt\", \"r\")\n",
        "for linea in f:\n",
        "  try:\n",
        "    shutil.move(os.path.join(test_dir,linea.split()[1]), os.path.join(test_dir,linea.split()[2],linea.split()[1]))\n",
        "  except:\n",
        "    print('Ya se encuentran en su carpeta')\n",
        "f.close()\n",
        "\n"
      ],
      "execution_count": null,
      "outputs": []
    },
    {
      "cell_type": "markdown",
      "metadata": {
        "id": "ch-xuTnrfZWH"
      },
      "source": [
        "Now we apply an inner validation of 20% to our data while keeping proportions"
      ]
    },
    {
      "cell_type": "code",
      "metadata": {
        "id": "WjykW5-vIIYn",
        "colab": {
          "base_uri": "https://localhost:8080/",
          "height": 34
        },
        "outputId": "c4f48921-6143-4777-e2d8-5aeb7ce78089"
      },
      "source": [
        "import splitfolders\n",
        "#we create a validation split\n",
        "splitfolders.ratio(train_dir,output=\"output\",seed=123,ratio=(.8, .2), group_prefix=None) "
      ],
      "execution_count": null,
      "outputs": [
        {
          "output_type": "stream",
          "text": [
            "Copying files: 13892 files [01:20, 172.15 files/s]\n"
          ],
          "name": "stderr"
        }
      ]
    },
    {
      "cell_type": "markdown",
      "metadata": {
        "id": "rhx_v6zBY5A3"
      },
      "source": [
        "## Data Generation\n"
      ]
    },
    {
      "cell_type": "markdown",
      "metadata": {
        "id": "cRwjy2rufpkJ"
      },
      "source": [
        "It is necessary to create the iterator file that will be used by the model to navigate through the images, in this case I haven't used any oversampling or data augmentation techniques but that could be included in the ImageDataGenerator class()."
      ]
    },
    {
      "cell_type": "code",
      "metadata": {
        "id": "GB2jEF9-3rwa",
        "colab": {
          "base_uri": "https://localhost:8080/",
          "height": 51
        },
        "outputId": "0f80c38b-e7f0-4206-beb8-523a76efdb96"
      },
      "source": [
        "from tensorflow.keras.preprocessing.image import ImageDataGenerator\n",
        "train_datagen=ImageDataGenerator()\n",
        "validation_datagen=ImageDataGenerator()\n",
        "train_generator=train_datagen.flow_from_directory('/content/output/train',batch_size=64,class_mode='categorical',color_mode='rgb',target_size=(260,260))\n",
        "val_generator=validation_datagen.flow_from_directory('/content/output/val',batch_size=64,class_mode='categorical',color_mode='rgb',target_size=(260,260))"
      ],
      "execution_count": null,
      "outputs": [
        {
          "output_type": "stream",
          "text": [
            "Found 11112 images belonging to 3 classes.\n",
            "Found 2780 images belonging to 3 classes.\n"
          ],
          "name": "stdout"
        }
      ]
    },
    {
      "cell_type": "markdown",
      "metadata": {
        "id": "RyNkYQnZ5zWd"
      },
      "source": [
        "##Setting up the learning schedule of the CNN\n",
        " Good explanation in here https://towardsdatascience.com/learning-rate-schedules-and-adaptive-learning-rate-methods-for-deep-learning-2c8f433990d1"
      ]
    },
    {
      "cell_type": "markdown",
      "metadata": {
        "id": "BHPK3rkLj1GN"
      },
      "source": [
        "###Super Convergence "
      ]
    },
    {
      "cell_type": "markdown",
      "metadata": {
        "id": "VGRGaPan5oz4"
      },
      "source": [
        "\n",
        "  Creates a look-up table of learning rates for 1cycle schedule with cosine annealing\n",
        "\n",
        "  See @sgugger's & @jeremyhoward's code in fastai library: https://github.com/fastai/fastai/blob/master/fastai/train.py\n",
        "\n",
        "  Note that in Keras, the LearningRateScheduler callback (https://keras.io/callbacks/#learningratescheduler) only operates once per epoch, not per batch\n",
        "     "
      ]
    },
    {
      "cell_type": "code",
      "metadata": {
        "id": "6ZNJnJyboopV"
      },
      "source": [
        "import logging\n",
        "\n",
        "logging.getLogger('tensorflow').setLevel(logging.ERROR)\n",
        "\n",
        "from tensorflow.keras.callbacks import Callback\n",
        "\n",
        "import numpy as np\n",
        "\n",
        "def get_1cycle_schedule(lr_max, n_data_points, epochs, batch_size, verbose):          \n",
        "  \n",
        "      \n",
        "  Keyword arguments:\n",
        "    lr_max            chosen by user after lr_finder\n",
        "    n_data_points     data points per epoch (e.g. size of training set)\n",
        "    epochs            number of epochs\n",
        "    batch_size        batch size\n",
        "  Output:  \n",
        "    lrs               look-up table of LR's, with length equal to total # of iterations\n",
        "  Then you can use this in your PyTorch code by counting iteration number and setting\n",
        "          optimizer.param_groups[0]['lr'] = lrs[iter_count]\n",
        "  \"\"\"\n",
        "  if verbose > 0:\n",
        "    print(\"Setting up 1Cycle LR schedule...\")\n",
        "  pct_start, div_factor = 0.3, 25.        # @sgugger's parameters in fastai code\n",
        "  lr_start = lr_max/div_factor\n",
        "  lr_end = lr_start/1e4\n",
        "  n_iter = n_data_points * epochs // batch_size     # number of iterations\n",
        "  a1 = int(n_iter * pct_start)\n",
        "  a2 = n_iter - a1\n",
        "\n",
        "  # make look-up table\n",
        "  lrs_first = np.linspace(lr_start, lr_max, a1)            # linear growth\n",
        "  lrs_second = (lr_max-lr_end)*(1+np.cos(np.linspace(0,np.pi,a2)))/2 + lr_end  # cosine annealing\n",
        "  lrs = np.concatenate((lrs_first, lrs_second))\n",
        "  return lrs\n",
        "\n",
        "\n",
        "from keras.callbacks import Callback\n",
        "import keras.backend as K\n",
        "\n",
        "class OneCycleScheduler(Callback):\n",
        "    \"\"\"My modification of Keras' Learning rate scheduler to do 1Cycle learning\n",
        "       which increments per BATCH, not per epoch\n",
        "    Keyword arguments\n",
        "        **kwargs:  keyword arguments to pass to get_1cycle_schedule()\n",
        "        Also, verbose: int. 0: quiet, 1: update messages.\n",
        "        \n",
        "    Sample usage (from my train.py):\n",
        "        lrsched = OneCycleScheduler(lr_max=1e-4, n_data_points=X_train.shape[0], epochs=epochs, batch_size=batch_size, verbose=1)\n",
        "    \"\"\"\n",
        "    def __init__(self, **kwargs):\n",
        "        super(OneCycleScheduler, self).__init__()\n",
        "        self.verbose = kwargs.get('verbose', 0)\n",
        "        self.lrs = get_1cycle_schedule(**kwargs)\n",
        "        \n",
        "        self.iteration = 0\n",
        "\n",
        "    def on_batch_begin(self, batch, logs=None):\n",
        "        lr = self.lrs[self.iteration]\n",
        "     \n",
        "        K.set_value(self.model.optimizer.lr, lr)         # here's where the assignment takes place\n",
        "        if self.verbose > 0:\n",
        "            print('\\nIteration %06d: OneCycleScheduler setting learning '\n",
        "                  'rate to %s .' % (self.iteration, lr))\n",
        "        self.iteration += 1\n",
        "\n",
        "    def on_epoch_end(self, epoch, logs=None):  # this is unchanged from Keras LearningRateScheduler\n",
        "        logs = logs or {}\n",
        "        logs['lr'] = K.get_value(self.model.optimizer.lr)\n",
        "\n"
      ],
      "execution_count": null,
      "outputs": []
    },
    {
      "cell_type": "markdown",
      "metadata": {
        "id": "Aycul8P5Bk-z"
      },
      "source": [
        "## Preparing the model and the hyperparameters\n",
        "\n",
        "\n",
        "1.    Initialise a CNN based in an EfficientNetB2 architecture \n",
        "\n",
        "2.   Remove the top layer in order to create our own classifier\n",
        "\n",
        "3. Transfer learning by loading the \"imagenet\" starting weights\n",
        "\n",
        "\n"
      ]
    },
    {
      "cell_type": "markdown",
      "metadata": {
        "id": "SQS7wM3cB-bR"
      },
      "source": [
        "We load the weights from imagenet of an EfficientNet 260x260\n",
        "\n",
        "\n",
        "\n",
        "\n",
        "\n",
        "\n"
      ]
    },
    {
      "cell_type": "code",
      "metadata": {
        "id": "o6Rcb680CLnJ"
      },
      "source": [
        " from tensorflow.keras.applications import EfficientNetB2\n",
        " \n",
        "#As the efficientnet requires an specific input we'll have to create our dataset according to the native image_size of the net(in this case 260x260). \n",
        "base_model=EfficientNetB2(\n",
        "    include_top=False,\n",
        "    weights=\"imagenet\"\n",
        "    \n",
        ")\n"
      ],
      "execution_count": null,
      "outputs": []
    },
    {
      "cell_type": "markdown",
      "metadata": {
        "id": "cbPNQhFwCQGm"
      },
      "source": [
        "###Setting up of the hyperparameters\n",
        "\n",
        "\n",
        "*   3 main classes (Pneumonia, COVID-19 and healthy)\n",
        "*   Set our base layers as trainable\n",
        "\n",
        "\n",
        "*   Add a pooling layer and a softmax activation function on the top of the net\n",
        "*   To avoid problems with the normalization of the images, include a first normalization layer before the model \n",
        "* Adam optimizer based in the Categorical Crossentropy( as we're working with multiclass and not binary classification). \n",
        "\n",
        "\n",
        "Important to realise that due to the balance problems of the dataset(i.e less pathological images) the accuracy would be a bad measure of the performance of the model.\n",
        "\n",
        "\n",
        "\n"
      ]
    },
    {
      "cell_type": "code",
      "metadata": {
        "id": "3HQHWBPDCPJa"
      },
      "source": [
        "\n",
        "num_classes=3\n",
        "base_model.trainable=True\n",
        "global_average_layer = tf.keras.layers.GlobalAveragePooling2D()\n",
        "prediction_layer = tf.keras.layers.Dense(num_classes,activation='softmax')\n",
        "\n",
        "normalization = Sequential(\n",
        "    [\n",
        "     preprocessing.Normalization(),\n",
        "    \n",
        "    ],\n",
        "    name='Normalization'\n",
        ")\n",
        " \n",
        " \n",
        " \n",
        "model = tf.keras.Sequential([\n",
        "  normalization,\n",
        "  base_model,\n",
        "  global_average_layer,\n",
        "  prediction_layer\n",
        "])\n",
        " \n",
        " \n",
        "model.compile(\n",
        "    optimizer='adam',\n",
        "    loss=tf.losses.CategoricalCrossentropy(from_logits=True),\n",
        "    metrics=['accuracy'])"
      ],
      "execution_count": null,
      "outputs": []
    },
    {
      "cell_type": "markdown",
      "metadata": {
        "id": "dUIsKY_PDJSs"
      },
      "source": [
        "### Training the model"
      ]
    },
    {
      "cell_type": "code",
      "metadata": {
        "id": "GYFJLNVhDIUa",
        "colab": {
          "base_uri": "https://localhost:8080/",
          "height": 1000
        },
        "outputId": "9cc717bf-025c-4e6e-988a-0b037fbd2783"
      },
      "source": [
        "from tensorflow.keras.callbacks import EarlyStopping, ReduceLROnPlateau\n",
        "import tensorflow\n",
        "# callback for early stopper\n",
        "patience =10\n",
        "earlystopper = EarlyStopping(patience=patience, verbose=1, restore_best_weights=True)\n",
        "\n",
        "# callback to modify the learning rate according to the one cycle policy\n",
        "import os, os.path\n",
        "data_points= 11112\n",
        "print(data_points)\n",
        "lr_schedule =   OneCycleScheduler(lr_max=2e-4, n_data_points=data_points, epochs=50, batch_size=64, verbose=0)\n",
        "    \n",
        "history=model.fit(\n",
        "  train_generator,\n",
        "  batch_size=64,\n",
        "  class_weight={0: 7, 1: 1, 2:2},\n",
        "  validation_data=val_generator,\n",
        "  epochs=50,\n",
        "  callbacks=[earlystopper,lr_schedule]\n",
        ")"
      ],
      "execution_count": null,
      "outputs": [
        {
          "output_type": "stream",
          "text": [
            "11112\n",
            "Epoch 1/50\n",
            "174/174 [==============================] - 173s 993ms/step - loss: 1.4448 - accuracy: 0.7417 - val_loss: 0.8001 - val_accuracy: 0.8335\n",
            "Epoch 2/50\n",
            "174/174 [==============================] - 167s 960ms/step - loss: 1.1192 - accuracy: 0.8840 - val_loss: 1.0609 - val_accuracy: 0.4245\n",
            "Epoch 3/50\n",
            "174/174 [==============================] - 169s 974ms/step - loss: 1.0300 - accuracy: 0.9114 - val_loss: 1.0801 - val_accuracy: 0.4205\n",
            "Epoch 4/50\n",
            "174/174 [==============================] - 171s 981ms/step - loss: 0.9943 - accuracy: 0.9296 - val_loss: 0.6702 - val_accuracy: 0.8827\n",
            "Epoch 5/50\n",
            "174/174 [==============================] - 171s 982ms/step - loss: 0.9717 - accuracy: 0.9406 - val_loss: 0.6388 - val_accuracy: 0.9108\n",
            "Epoch 6/50\n",
            "174/174 [==============================] - 171s 985ms/step - loss: 0.9548 - accuracy: 0.9527 - val_loss: 0.6216 - val_accuracy: 0.9273\n",
            "Epoch 7/50\n",
            "174/174 [==============================] - 170s 979ms/step - loss: 0.9435 - accuracy: 0.9586 - val_loss: 0.6239 - val_accuracy: 0.9270\n",
            "Epoch 8/50\n",
            "174/174 [==============================] - 169s 972ms/step - loss: 0.9368 - accuracy: 0.9635 - val_loss: 0.6252 - val_accuracy: 0.9230\n",
            "Epoch 9/50\n",
            "174/174 [==============================] - 169s 973ms/step - loss: 0.9324 - accuracy: 0.9657 - val_loss: 0.6133 - val_accuracy: 0.9356\n",
            "Epoch 10/50\n",
            "174/174 [==============================] - 169s 968ms/step - loss: 0.9292 - accuracy: 0.9687 - val_loss: 0.6612 - val_accuracy: 0.8871\n",
            "Epoch 11/50\n",
            "174/174 [==============================] - 169s 972ms/step - loss: 0.9257 - accuracy: 0.9703 - val_loss: 0.6132 - val_accuracy: 0.9374\n",
            "Epoch 12/50\n",
            "174/174 [==============================] - 169s 970ms/step - loss: 0.9272 - accuracy: 0.9707 - val_loss: 0.6174 - val_accuracy: 0.9342\n",
            "Epoch 13/50\n",
            "174/174 [==============================] - 171s 984ms/step - loss: 0.9338 - accuracy: 0.9662 - val_loss: 0.6123 - val_accuracy: 0.9385\n",
            "Epoch 14/50\n",
            "174/174 [==============================] - 170s 977ms/step - loss: 0.9250 - accuracy: 0.9724 - val_loss: 0.6213 - val_accuracy: 0.9299\n",
            "Epoch 15/50\n",
            "174/174 [==============================] - 168s 965ms/step - loss: 0.9269 - accuracy: 0.9711 - val_loss: 0.6102 - val_accuracy: 0.9399\n",
            "Epoch 16/50\n",
            "174/174 [==============================] - 170s 978ms/step - loss: 0.9291 - accuracy: 0.9672 - val_loss: 0.6154 - val_accuracy: 0.9360\n",
            "Epoch 17/50\n",
            "174/174 [==============================] - 170s 975ms/step - loss: 0.9177 - accuracy: 0.9750 - val_loss: 0.6200 - val_accuracy: 0.9295\n",
            "Epoch 18/50\n",
            "174/174 [==============================] - 169s 973ms/step - loss: 0.9133 - accuracy: 0.9774 - val_loss: 0.6182 - val_accuracy: 0.9320\n",
            "Epoch 19/50\n",
            "174/174 [==============================] - 170s 975ms/step - loss: 0.9117 - accuracy: 0.9798 - val_loss: 0.6106 - val_accuracy: 0.9410\n",
            "Epoch 20/50\n",
            "174/174 [==============================] - 170s 976ms/step - loss: 0.9141 - accuracy: 0.9782 - val_loss: 0.6190 - val_accuracy: 0.9306\n",
            "Epoch 21/50\n",
            "174/174 [==============================] - 167s 960ms/step - loss: 0.9183 - accuracy: 0.9764 - val_loss: 0.6187 - val_accuracy: 0.9317\n",
            "Epoch 22/50\n",
            "174/174 [==============================] - 166s 957ms/step - loss: 0.9106 - accuracy: 0.9800 - val_loss: 0.6075 - val_accuracy: 0.9428\n",
            "Epoch 23/50\n",
            "174/174 [==============================] - 164s 944ms/step - loss: 0.9053 - accuracy: 0.9830 - val_loss: 0.6055 - val_accuracy: 0.9450\n",
            "Epoch 24/50\n",
            "174/174 [==============================] - 165s 949ms/step - loss: 0.9021 - accuracy: 0.9858 - val_loss: 0.6084 - val_accuracy: 0.9417\n",
            "Epoch 25/50\n",
            "174/174 [==============================] - 162s 932ms/step - loss: 0.9007 - accuracy: 0.9861 - val_loss: 0.6049 - val_accuracy: 0.9471\n",
            "Epoch 26/50\n",
            "174/174 [==============================] - 164s 940ms/step - loss: 0.8998 - accuracy: 0.9873 - val_loss: 0.6094 - val_accuracy: 0.9403\n",
            "Epoch 27/50\n",
            "174/174 [==============================] - 163s 938ms/step - loss: 0.9044 - accuracy: 0.9845 - val_loss: 0.6063 - val_accuracy: 0.9442\n",
            "Epoch 28/50\n",
            "174/174 [==============================] - 166s 953ms/step - loss: 0.9040 - accuracy: 0.9843 - val_loss: 0.6048 - val_accuracy: 0.9457\n",
            "Epoch 29/50\n",
            "174/174 [==============================] - 162s 929ms/step - loss: 0.8985 - accuracy: 0.9888 - val_loss: 0.6030 - val_accuracy: 0.9478\n",
            "Epoch 30/50\n",
            "174/174 [==============================] - 162s 933ms/step - loss: 0.8945 - accuracy: 0.9906 - val_loss: 0.6060 - val_accuracy: 0.9442\n",
            "Epoch 31/50\n",
            "174/174 [==============================] - 165s 948ms/step - loss: 0.8942 - accuracy: 0.9913 - val_loss: 0.6050 - val_accuracy: 0.9457\n",
            "Epoch 32/50\n",
            "174/174 [==============================] - 166s 956ms/step - loss: 0.8974 - accuracy: 0.9883 - val_loss: 0.6062 - val_accuracy: 0.9450\n",
            "Epoch 33/50\n",
            "174/174 [==============================] - 165s 947ms/step - loss: 0.8946 - accuracy: 0.9909 - val_loss: 0.6052 - val_accuracy: 0.9460\n",
            "Epoch 34/50\n",
            "174/174 [==============================] - 166s 952ms/step - loss: 0.8942 - accuracy: 0.9911 - val_loss: 0.6063 - val_accuracy: 0.9446\n",
            "Epoch 35/50\n",
            "174/174 [==============================] - 163s 934ms/step - loss: 0.8937 - accuracy: 0.9913 - val_loss: 0.6052 - val_accuracy: 0.9460\n",
            "Epoch 36/50\n",
            "174/174 [==============================] - 162s 930ms/step - loss: 0.8920 - accuracy: 0.9924 - val_loss: 0.6058 - val_accuracy: 0.9442\n",
            "Epoch 37/50\n",
            "174/174 [==============================] - 164s 943ms/step - loss: 0.8915 - accuracy: 0.9926 - val_loss: 0.6058 - val_accuracy: 0.9446\n",
            "Epoch 38/50\n",
            "174/174 [==============================] - 161s 924ms/step - loss: 0.8919 - accuracy: 0.9924 - val_loss: 0.6060 - val_accuracy: 0.9435\n",
            "Epoch 39/50\n",
            "174/174 [==============================] - ETA: 0s - loss: 0.8926 - accuracy: 0.9923Restoring model weights from the end of the best epoch.\n",
            "174/174 [==============================] - 160s 917ms/step - loss: 0.8926 - accuracy: 0.9923 - val_loss: 0.6055 - val_accuracy: 0.9450\n",
            "Epoch 00039: early stopping\n"
          ],
          "name": "stdout"
        }
      ]
    },
    {
      "cell_type": "code",
      "metadata": {
        "id": "XwhAe3ZysvTy",
        "colab": {
          "base_uri": "https://localhost:8080/",
          "height": 312
        },
        "outputId": "7bd91176-da04-43f0-f754-ec5e758e07bf"
      },
      "source": [
        "plotter = tfdocs.plots.HistoryPlotter()\n",
        "plotter.plot({ \"EfficientNetB2\": history}, metric = \"accuracy\")\n",
        "plt.title(\"Accuracy\")\n",
        "plt.ylim([0.6,1])"
      ],
      "execution_count": null,
      "outputs": [
        {
          "output_type": "execute_result",
          "data": {
            "text/plain": [
              "(0.6, 1.0)"
            ]
          },
          "metadata": {
            "tags": []
          },
          "execution_count": 25
        },
        {
          "output_type": "display_data",
          "data": {
            "image/png": "[encoded data removed]",
            "text/plain": [
              "<Figure size 432x288 with 1 Axes>"
            ]
          },
          "metadata": {
            "tags": [],
            "needs_background": "light"
          }
        }
      ]
    },
    {
      "cell_type": "code",
      "metadata": {
        "id": "3YDM-klEzMv6",
        "colab": {
          "base_uri": "https://localhost:8080/",
          "height": 312
        },
        "outputId": "af79ade2-b167-4914-cd69-3f9232c7b2a5"
      },
      "source": [
        "plotter.plot({ \"EfficientNetB2\": history}, metric = \"loss\")\n",
        "plt.title(\"Loss\")\n",
        "plt.ylim([0,1])"
      ],
      "execution_count": null,
      "outputs": [
        {
          "output_type": "execute_result",
          "data": {
            "text/plain": [
              "(0.0, 1.0)"
            ]
          },
          "metadata": {
            "tags": []
          },
          "execution_count": 26
        },
        {
          "output_type": "display_data",
          "data": {
            "image/png": "[encoded data removed]",
            "text/plain": [
              "<Figure size 432x288 with 1 Axes>"
            ]
          },
          "metadata": {
            "tags": [],
            "needs_background": "light"
          }
        }
      ]
    },
    {
      "cell_type": "markdown",
      "metadata": {
        "id": "V_cKPQg5B1vu"
      },
      "source": [
        "## Testing the metrics of the model loaded"
      ]
    },
    {
      "cell_type": "code",
      "metadata": {
        "id": "EfCs3Y08DQ5Q",
        "colab": {
          "base_uri": "https://localhost:8080/",
          "height": 34
        },
        "outputId": "887fbe08-33b8-42de-8af6-35ca6f1f9b01"
      },
      "source": [
        "from sklearn.metrics import confusion_matrix, classification_report  \n",
        "from keras.preprocessing.image import ImageDataGenerator  \n",
        "test_datagen=ImageDataGenerator()\n",
        "test_generator = test_datagen.flow_from_directory(\n",
        "    directory=r\"/content/data/test\",\n",
        "    target_size=(260, 260),\n",
        "    color_mode=\"rgb\",\n",
        "    batch_size=1,\n",
        "    class_mode=\"categorical\",\n",
        "    shuffle=False,\n",
        "    seed=42\n",
        ")\n",
        "\n"
      ],
      "execution_count": null,
      "outputs": [
        {
          "output_type": "stream",
          "text": [
            "Found 1579 images belonging to 3 classes.\n"
          ],
          "name": "stdout"
        }
      ]
    },
    {
      "cell_type": "code",
      "metadata": {
        "id": "WFZ17IlP_kaH"
      },
      "source": [
        " \n",
        "y_pred=model.predict_classes(test_generator)"
      ],
      "execution_count": null,
      "outputs": []
    },
    {
      "cell_type": "code",
      "metadata": {
        "id": "RQRVIO48m1ww",
        "colab": {
          "base_uri": "https://localhost:8080/",
          "height": 170
        },
        "outputId": "9192abe7-d4e7-4eaf-f910-c4778aa1a2f4"
      },
      "source": [
        "\n",
        "print(\"Confusion matrix:\\n\"+ str(confusion_matrix(test_generator.labels,y_pred)))\n",
        "\n",
        "# Calculate precision per class\n",
        "from sklearn.metrics import precision_score\n",
        "prec = precision_score( test_generator.labels, y_pred, average=None )\n",
        "\n",
        "print( \"Precision (Positive Predictive Value) per class =\\n \" + str( prec ))\n",
        "\n",
        "# Calculate recall per class\n",
        "from sklearn.metrics import recall_score\n",
        "\n",
        "rec = recall_score( test_generator.labels, y_pred, average=None )\n",
        "\n",
        "print( \"Recall (Sensitiviy) per class =\\n  \" + str( rec ))\n",
        "from sklearn.metrics import accuracy_score\n",
        "print(\" Accuracy=\"+str(accuracy_score(y_pred,test_generator.labels)))"
      ],
      "execution_count": null,
      "outputs": [
        {
          "output_type": "stream",
          "text": [
            "Confusion matrix:\n",
            "[[ 89   4   7]\n",
            " [  0 860  25]\n",
            " [  4  38 552]]\n",
            "Precision (Positive Predictive Value) per class =\n",
            " [0.95698925 0.95343681 0.94520548]\n",
            "Recall (Sensitiviy) per class =\n",
            "  [0.89       0.97175141 0.92929293]\n",
            " Accuracy=0.9506016466117796\n"
          ],
          "name": "stdout"
        }
      ]
    }
  ]
}